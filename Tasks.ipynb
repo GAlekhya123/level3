{
 "cells": [
  {
   "cell_type": "code",
   "execution_count": 54,
   "metadata": {},
   "outputs": [
    {
     "data": {
      "text/plain": [
       "[3, 1, 2]"
      ]
     },
     "execution_count": 54,
     "metadata": {},
     "output_type": "execute_result"
    }
   ],
   "source": [
    "def shiftRbyn(a, n):\n",
    "    return a[n:len(a):] + a[0:n:]\n",
    "shiftRbyn([1,2,3],2)"
   ]
  },
  {
   "cell_type": "code",
   "execution_count": 3,
   "metadata": {},
   "outputs": [
    {
     "data": {
      "text/plain": [
       "880"
      ]
     },
     "execution_count": 3,
     "metadata": {},
     "output_type": "execute_result"
    }
   ],
   "source": [
    "import numpy as np\n",
    "a=np.array([2,3,4,5,6])\n",
    "m2=np.roll(a,2)\n",
    "m1=np.roll(a,1)\n",
    "a=np.delete(a, -1)\n",
    "m1=np.delete(m1, -1)\n",
    "m2=np.delete(m2, -1)\n",
    "a=a.reshape(2,2)\n",
    "m1=m1.reshape(2,2)\n",
    "m2=m2.reshape(2,2)\n",
    "o=np.matmul(a,m1)\n",
    "res=np.matmul(o,m2)\n",
    "q=sum(res)\n",
    "sum(q)"
   ]
  },
  {
   "cell_type": "code",
   "execution_count": 79,
   "metadata": {},
   "outputs": [],
   "source": [
    "def shiftRbyn(a, n):\n",
    "    return a[n:len(a):] + a[0:n:]\n"
   ]
  },
  {
   "cell_type": "code",
   "execution_count": 37,
   "metadata": {},
   "outputs": [],
   "source": [
    "def shiftLbyn(a,n):\n",
    "    return a[n::] + a[:n:]\n",
    "shiftLbyn([2,3,4,5,6],1)"
   ]
  },
  {
   "cell_type": "code",
   "execution_count": 98,
   "metadata": {},
   "outputs": [
    {
     "data": {
      "text/plain": [
       "True"
      ]
     },
     "execution_count": 98,
     "metadata": {},
     "output_type": "execute_result"
    }
   ],
   "source": [
    "def specialnumcheck(n):\n",
    "    list3=[]\n",
    "    list5=[]\n",
    "    list7=[]\n",
    "    fp=10\n",
    "    for i in range(10):\n",
    "        list3.append(3 ** i)\n",
    "        list5.append(5 ** i)\n",
    "        list7.append(7 ** i)\n",
    "    for x in range(10):\n",
    "        for j in range(10):\n",
    "            if list3[i]+list5[j]==n or list3[i]+list7[j]==n:\n",
    "                return True\n",
    "    for i in range(10):\n",
    "        for j in range(10):\n",
    "            if list5[i]+list7[j]==n:\n",
    "                return True\n",
    "    return False\n",
    "specialnumcheck(8)"
   ]
  },
  {
   "cell_type": "code",
   "execution_count": 112,
   "metadata": {},
   "outputs": [],
   "source": [
    "\n",
    "def specialnumcheck(n):\n",
    "    list3=[]\n",
    "    list5=[]\n",
    "    list7=[]\n",
    "    fp=10\n",
    "    for i in range(10):\n",
    "        list3.append(3 ** i)\n",
    "        list5.append(5 ** i)\n",
    "        list7.append(7 ** i)\n",
    "    for x in range(10):\n",
    "        for j in range(10):\n",
    "            if list3[i]+list5[j]==n or list3[i]+list7[j]==n:\n",
    "                return True\n",
    "    for i in range(10):\n",
    "        for j in range(10):\n",
    "            if list5[i]+list7[j]==n:\n",
    "                return True\n",
    "    return False\n",
    "specialnumcheck(8)\n",
    "def NextSpeicialNumberPositive(n):\n",
    "    count=0\n",
    "    if specialnumcheck(n)==False:\n",
    "        while True:\n",
    "            n=n+1\n",
    "            count+=1\n",
    "            if specialnumcheck(n)==True:\n",
    "                return n\n",
    "            break\n",
    "def NextSpeicialNumberNegative(n1):\n",
    "    count1=0\n",
    "    if specialnumcheck(n1)==False:\n",
    "        while True:\n",
    "            n1=n1+1\n",
    "            count1+=1\n",
    "            if specialnumcheck(n1)==True:\n",
    "                return n1\n",
    "            break\n",
    "NextSpeicialNumberPositive(12)"
   ]
  },
  {
   "cell_type": "code",
   "execution_count": 14,
   "metadata": {},
   "outputs": [
    {
     "name": "stdout",
     "output_type": "stream",
     "text": [
      "1\n",
      "4\n",
      "7\n",
      "8\n",
      "32\n"
     ]
    }
   ],
   "source": [
    "t=int(input())\n",
    "num=int(input())\n",
    "pos_cost=int(input())\n",
    "neg_cost=int(input())\n",
    "\n",
    "def CheckSpecialNumber(n):\n",
    "    list3=[]\n",
    "    list5=[]\n",
    "    list7=[]\n",
    "    fd=100\n",
    "    for i in range(1,fd):\n",
    "        list3.append(3**i)\n",
    "        list5.append(5**i)\n",
    "        list7.append(7**i)\n",
    "       \n",
    "    for i in range(0,len(list3)):\n",
    "        for j in range(0,len(list5)):\n",
    "            if list3[i]+list5[j]==n or list3[i]+list7[j]==n:\n",
    "                return True\n",
    "    for i in range(0,len(list5)):\n",
    "        for j in range(0,len(list7)):\n",
    "            if list5[i]+list7[j]==n:\n",
    "                return True\n",
    "n1=0\n",
    "n2=0\n",
    "count=0\n",
    "count1=0\n",
    "def NextSpeicialNumberPositive(num):\n",
    "    \n",
    "    if CheckSpecialNumber(num)==False:\n",
    "        while True:\n",
    "            num=num+1\n",
    "            count+=1\n",
    "            if CheckSpecialNumber(num)==True:\n",
    "                n2=num\n",
    "                return n2\n",
    "            break\n",
    "def NextSpeicialNumberNegative(num):\n",
    "    \n",
    "    if CheckSpecialNumber(num)==False:\n",
    "        while True:\n",
    "            num=num-1\n",
    "            count1+=1\n",
    "            if CheckSpecialNumber(num)==True:\n",
    "                n1=num\n",
    "                return n1\n",
    "            break\n",
    "difp=abs(num-n1)\n",
    "difn=abs(num-n2)\n",
    "\n",
    "if difp<difn:\n",
    "     print(difp*pos_cost)\n",
    "else:\n",
    "    print(difn*neg_cost)\n",
    "\n",
    "for i in range(t):\n",
    "    #CheckSpecialNumber(num)\n",
    "    NextSpeicialNumberPositive(num)\n",
    "    NextSpeicialNumberNegative(num)"
   ]
  },
  {
   "cell_type": "code",
   "execution_count": 6,
   "metadata": {},
   "outputs": [
    {
     "name": "stdout",
     "output_type": "stream",
     "text": [
      "5 2\n",
      "2 3 4 5 6\n",
      "[2, 3, 4, 5, 6]\n",
      "2\n",
      "[[137 174]\n",
      " [251 318]]\n",
      "880\n"
     ]
    }
   ],
   "source": [
    "N,k=map(int,input().split())\n",
    "list1=list(map(int,input().split()))\n",
    "#print(list1)\n",
    "m=np.array(list1)\n",
    "p=int(np.sqrt(N))\n",
    "#print(p)\n",
    "m0=m\n",
    "for d in range(1,np.size(m)-(p*p)+1):\n",
    "    m0=np.delete(m0,-d)\n",
    "m0=np.reshape(m0,[p,p])\n",
    "op=m0\n",
    "for i in range(1,k+1):\n",
    "    m1=np.roll(m,i)\n",
    "    for ded in range(1,np.size(m)-(p*p)+1):\n",
    "        m1=np.delete(m1,-ded)\n",
    "   #print(m1)\n",
    "    m1=np.reshape(m1,[p,p])\n",
    "    m1=np.matmul(op,m1)\n",
    "    op=m1\n",
    "print(m1)\n",
    "print(sum(sum(op)))"
   ]
  },
  {
   "cell_type": "code",
   "execution_count": 11,
   "metadata": {},
   "outputs": [
    {
     "name": "stdout",
     "output_type": "stream",
     "text": [
      "1 1\n",
      "1 2\n",
      "1 3\n",
      "1 4\n",
      "1 5\n",
      "2 1\n",
      "2 2\n",
      "2 3\n",
      "2 4\n",
      "2 5\n",
      "3 1\n",
      "3 2\n",
      "3 3\n",
      "3 4\n",
      "3 5\n",
      "4 1\n",
      "4 2\n",
      "4 3\n",
      "4 4\n",
      "4 5\n",
      "5 1\n",
      "5 2\n",
      "5 3\n",
      "5 4\n",
      "5 5\n"
     ]
    }
   ],
   "source": [
    "a=[1,2,3,4,5]\n",
    "b=[6,7,8,9,10]\n",
    "for i in range(1,len(a)+1):\n",
    "    for j in range(1,len(b)+1):\n",
    "        print(i,j)"
   ]
  },
  {
   "cell_type": "code",
   "execution_count": 17,
   "metadata": {},
   "outputs": [
    {
     "ename": "TypeError",
     "evalue": "'float' object cannot be interpreted as an integer",
     "output_type": "error",
     "traceback": [
      "\u001b[1;31m---------------------------------------------------------------------------\u001b[0m",
      "\u001b[1;31mTypeError\u001b[0m                                 Traceback (most recent call last)",
      "\u001b[1;32m<ipython-input-17-9a378ae520e0>\u001b[0m in \u001b[0;36m<module>\u001b[1;34m\u001b[0m\n\u001b[1;32m----> 1\u001b[1;33m \u001b[1;32mfor\u001b[0m \u001b[0mi\u001b[0m \u001b[1;32min\u001b[0m \u001b[0mrange\u001b[0m\u001b[1;33m(\u001b[0m\u001b[1;36m1\u001b[0m\u001b[1;33m,\u001b[0m\u001b[1;36m10.8\u001b[0m\u001b[1;33m)\u001b[0m\u001b[1;33m:\u001b[0m\u001b[1;33m\u001b[0m\u001b[1;33m\u001b[0m\u001b[0m\n\u001b[0m\u001b[0;32m      2\u001b[0m     \u001b[0mprint\u001b[0m\u001b[1;33m(\u001b[0m\u001b[0mi\u001b[0m\u001b[1;33m)\u001b[0m\u001b[1;33m\u001b[0m\u001b[1;33m\u001b[0m\u001b[0m\n",
      "\u001b[1;31mTypeError\u001b[0m: 'float' object cannot be interpreted as an integer"
     ]
    }
   ],
   "source": [
    "for i in range(1,10.8):\n",
    "    print(i)"
   ]
  },
  {
   "cell_type": "code",
   "execution_count": 19,
   "metadata": {},
   "outputs": [
    {
     "data": {
      "text/plain": [
       "array([1. , 2.2, 3.4, 4.6, 5.8, 7. , 8.2, 9.4])"
      ]
     },
     "execution_count": 19,
     "metadata": {},
     "output_type": "execute_result"
    }
   ],
   "source": [
    "import numpy as np\n",
    "np.arange(1,10.6,1.2)"
   ]
  },
  {
   "cell_type": "code",
   "execution_count": 1,
   "metadata": {},
   "outputs": [],
   "source": [
    "a = 3"
   ]
  },
  {
   "cell_type": "code",
   "execution_count": 2,
   "metadata": {},
   "outputs": [],
   "source": [
    "b = bin(a)"
   ]
  },
  {
   "cell_type": "code",
   "execution_count": 3,
   "metadata": {},
   "outputs": [
    {
     "data": {
      "text/plain": [
       "'0b11'"
      ]
     },
     "execution_count": 3,
     "metadata": {},
     "output_type": "execute_result"
    }
   ],
   "source": [
    "b"
   ]
  },
  {
   "cell_type": "code",
   "execution_count": 12,
   "metadata": {},
   "outputs": [
    {
     "data": {
      "text/plain": [
       "3"
      ]
     },
     "execution_count": 12,
     "metadata": {},
     "output_type": "execute_result"
    }
   ],
   "source": [
    "int(b,2)"
   ]
  },
  {
   "cell_type": "code",
   "execution_count": null,
   "metadata": {},
   "outputs": [],
   "source": []
  },
  {
   "cell_type": "code",
   "execution_count": null,
   "metadata": {},
   "outputs": [],
   "source": []
  }
 ],
 "metadata": {
  "kernelspec": {
   "display_name": "Python 3",
   "language": "python",
   "name": "python3"
  },
  "language_info": {
   "codemirror_mode": {
    "name": "ipython",
    "version": 3
   },
   "file_extension": ".py",
   "mimetype": "text/x-python",
   "name": "python",
   "nbconvert_exporter": "python",
   "pygments_lexer": "ipython3",
   "version": "3.7.3"
  }
 },
 "nbformat": 4,
 "nbformat_minor": 2
}
