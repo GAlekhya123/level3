{
 "cells": [
  {
   "cell_type": "code",
   "execution_count": 49,
   "metadata": {},
   "outputs": [],
   "source": [
    "import pandas as pd\n",
    "data = {\"x\":[1,2,3,4,5],\"y\":[1,2,1,5,1]}"
   ]
  },
  {
   "cell_type": "code",
   "execution_count": 50,
   "metadata": {},
   "outputs": [
    {
     "data": {
      "text/html": [
       "<div>\n",
       "<style scoped>\n",
       "    .dataframe tbody tr th:only-of-type {\n",
       "        vertical-align: middle;\n",
       "    }\n",
       "\n",
       "    .dataframe tbody tr th {\n",
       "        vertical-align: top;\n",
       "    }\n",
       "\n",
       "    .dataframe thead th {\n",
       "        text-align: right;\n",
       "    }\n",
       "</style>\n",
       "<table border=\"1\" class=\"dataframe\">\n",
       "  <thead>\n",
       "    <tr style=\"text-align: right;\">\n",
       "      <th></th>\n",
       "      <th>x</th>\n",
       "      <th>y</th>\n",
       "    </tr>\n",
       "  </thead>\n",
       "  <tbody>\n",
       "    <tr>\n",
       "      <th>a</th>\n",
       "      <td>1</td>\n",
       "      <td>1</td>\n",
       "    </tr>\n",
       "    <tr>\n",
       "      <th>b</th>\n",
       "      <td>2</td>\n",
       "      <td>2</td>\n",
       "    </tr>\n",
       "    <tr>\n",
       "      <th>c</th>\n",
       "      <td>3</td>\n",
       "      <td>1</td>\n",
       "    </tr>\n",
       "    <tr>\n",
       "      <th>e</th>\n",
       "      <td>4</td>\n",
       "      <td>5</td>\n",
       "    </tr>\n",
       "    <tr>\n",
       "      <th>f</th>\n",
       "      <td>5</td>\n",
       "      <td>1</td>\n",
       "    </tr>\n",
       "  </tbody>\n",
       "</table>\n",
       "</div>"
      ],
      "text/plain": [
       "   x  y\n",
       "a  1  1\n",
       "b  2  2\n",
       "c  3  1\n",
       "e  4  5\n",
       "f  5  1"
      ]
     },
     "execution_count": 50,
     "metadata": {},
     "output_type": "execute_result"
    }
   ],
   "source": [
    "a1 = pd.DataFrame(data,[\"a\",\"b\",\"c\",\"e\",\"f\"])\n",
    "a1"
   ]
  },
  {
   "cell_type": "code",
   "execution_count": 51,
   "metadata": {},
   "outputs": [
    {
     "data": {
      "text/plain": [
       "array([[1],\n",
       "       [2],\n",
       "       [3],\n",
       "       [4],\n",
       "       [5]], dtype=int64)"
      ]
     },
     "execution_count": 51,
     "metadata": {},
     "output_type": "execute_result"
    }
   ],
   "source": [
    "x1 = a1[\"x\"].values\n",
    "\n",
    "import numpy as np\n",
    "x1.reshape((len(x1),1))\n"
   ]
  },
  {
   "cell_type": "code",
   "execution_count": 52,
   "metadata": {},
   "outputs": [],
   "source": [
    "y1 = a1[\"y\"]"
   ]
  },
  {
   "cell_type": "code",
   "execution_count": 33,
   "metadata": {},
   "outputs": [],
   "source": [
    "from sklearn.linear_model import LinearRegression\n",
    "from sklearn.metrics import mean_squared_error\n",
    "import numpy as np"
   ]
  },
  {
   "cell_type": "code",
   "execution_count": 53,
   "metadata": {},
   "outputs": [
    {
     "data": {
      "text/plain": [
       "array([1.4, 1.7, 2. , 2.3, 2.6])"
      ]
     },
     "execution_count": 53,
     "metadata": {},
     "output_type": "execute_result"
    }
   ],
   "source": [
    "### Another Method\n",
    "m = len(x1)\n",
    "\n",
    "x2 = x1.reshape((m,1))\n",
    "#Model intialization\n",
    "reg = LinearRegression()\n",
    "#data fitting\n",
    "reg = reg.fit(x2,y1)\n",
    "y_pred1 = reg.predict(x2)\n",
    "y_pred1"
   ]
  },
  {
   "cell_type": "code",
   "execution_count": 54,
   "metadata": {},
   "outputs": [
    {
     "data": {
      "text/plain": [
       "0.07499999999999984"
      ]
     },
     "execution_count": 54,
     "metadata": {},
     "output_type": "execute_result"
    }
   ],
   "source": [
    "r2 = reg.score(x2,y1)\n",
    "r2"
   ]
  },
  {
   "cell_type": "code",
   "execution_count": 55,
   "metadata": {},
   "outputs": [
    {
     "data": {
      "text/plain": [
       "7.499999999999984"
      ]
     },
     "execution_count": 55,
     "metadata": {},
     "output_type": "execute_result"
    }
   ],
   "source": [
    "0.07499999999999984*100"
   ]
  },
  {
   "cell_type": "markdown",
   "metadata": {},
   "source": [
    "#### Simple Linear Regession"
   ]
  },
  {
   "cell_type": "code",
   "execution_count": 161,
   "metadata": {},
   "outputs": [],
   "source": [
    "import matplotlib.pyplot as plt"
   ]
  },
  {
   "cell_type": "code",
   "execution_count": 162,
   "metadata": {},
   "outputs": [],
   "source": [
    "x = np.random.rand(100,1)\n"
   ]
  },
  {
   "cell_type": "code",
   "execution_count": 163,
   "metadata": {},
   "outputs": [
    {
     "data": {
      "text/plain": [
       "[<matplotlib.lines.Line2D at 0x1aa8d2a3da0>]"
      ]
     },
     "execution_count": 163,
     "metadata": {},
     "output_type": "execute_result"
    },
    {
     "data": {
      "image/png": "[encoded data removed]",
      "text/plain": [
       "<Figure size 432x288 with 1 Axes>"
      ]
     },
     "metadata": {
      "needs_background": "light"
     },
     "output_type": "display_data"
    }
   ],
   "source": [
    "y = 4 + 3 * x + np.random.rand(100,1)\n",
    "#print(y)\n",
    "\n",
    "plt.plot(x,y,\"d\")"
   ]
  },
  {
   "cell_type": "code",
   "execution_count": 164,
   "metadata": {},
   "outputs": [
    {
     "data": {
      "text/plain": [
       "array([[1.        , 0.5725629 ],\n",
       "       [1.        , 0.83952168],\n",
       "       [1.        , 0.49967958],\n",
       "       [1.        , 0.12924695],\n",
       "       [1.        , 0.87576931],\n",
       "       [1.        , 0.62562465],\n",
       "       [1.        , 0.93662877],\n",
       "       [1.        , 0.50071134],\n",
       "       [1.        , 0.38717512],\n",
       "       [1.        , 0.51945505],\n",
       "       [1.        , 0.66758592],\n",
       "       [1.        , 0.68280194],\n",
       "       [1.        , 0.7009152 ],\n",
       "       [1.        , 0.22663843],\n",
       "       [1.        , 0.71464456],\n",
       "       [1.        , 0.30401844],\n",
       "       [1.        , 0.76470212],\n",
       "       [1.        , 0.97372314],\n",
       "       [1.        , 0.81463385],\n",
       "       [1.        , 0.22610166],\n",
       "       [1.        , 0.70225646],\n",
       "       [1.        , 0.79008668],\n",
       "       [1.        , 0.1270507 ],\n",
       "       [1.        , 0.20909958],\n",
       "       [1.        , 0.86961377],\n",
       "       [1.        , 0.32902344],\n",
       "       [1.        , 0.57477185],\n",
       "       [1.        , 0.96449936],\n",
       "       [1.        , 0.32854649],\n",
       "       [1.        , 0.91410822],\n",
       "       [1.        , 0.84121218],\n",
       "       [1.        , 0.50038168],\n",
       "       [1.        , 0.39998028],\n",
       "       [1.        , 0.9349527 ],\n",
       "       [1.        , 0.61818003],\n",
       "       [1.        , 0.39456326],\n",
       "       [1.        , 0.83929494],\n",
       "       [1.        , 0.55316212],\n",
       "       [1.        , 0.62160258],\n",
       "       [1.        , 0.58713814],\n",
       "       [1.        , 0.56043082],\n",
       "       [1.        , 0.27975145],\n",
       "       [1.        , 0.27686714],\n",
       "       [1.        , 0.0845917 ],\n",
       "       [1.        , 0.75109933],\n",
       "       [1.        , 0.25995711],\n",
       "       [1.        , 0.39882712],\n",
       "       [1.        , 0.06900197],\n",
       "       [1.        , 0.46034395],\n",
       "       [1.        , 0.23451022],\n",
       "       [1.        , 0.92217895],\n",
       "       [1.        , 0.09024908],\n",
       "       [1.        , 0.93110216],\n",
       "       [1.        , 0.68675794],\n",
       "       [1.        , 0.0939416 ],\n",
       "       [1.        , 0.93284974],\n",
       "       [1.        , 0.29727386],\n",
       "       [1.        , 0.10946398],\n",
       "       [1.        , 0.84835538],\n",
       "       [1.        , 0.47920429],\n",
       "       [1.        , 0.81059157],\n",
       "       [1.        , 0.08906048],\n",
       "       [1.        , 0.82223595],\n",
       "       [1.        , 0.88805666],\n",
       "       [1.        , 0.47345051],\n",
       "       [1.        , 0.59987708],\n",
       "       [1.        , 0.41567379],\n",
       "       [1.        , 0.77627435],\n",
       "       [1.        , 0.13579498],\n",
       "       [1.        , 0.64237974],\n",
       "       [1.        , 0.45118742],\n",
       "       [1.        , 0.24486192],\n",
       "       [1.        , 0.16566252],\n",
       "       [1.        , 0.4853729 ],\n",
       "       [1.        , 0.98971744],\n",
       "       [1.        , 0.7510996 ],\n",
       "       [1.        , 0.06593139],\n",
       "       [1.        , 0.14650941],\n",
       "       [1.        , 0.99065639],\n",
       "       [1.        , 0.44626455],\n",
       "       [1.        , 0.33960767],\n",
       "       [1.        , 0.06218565],\n",
       "       [1.        , 0.52634716],\n",
       "       [1.        , 0.42433205],\n",
       "       [1.        , 0.54753973],\n",
       "       [1.        , 0.83987606],\n",
       "       [1.        , 0.46950392],\n",
       "       [1.        , 0.07751482],\n",
       "       [1.        , 0.19141434],\n",
       "       [1.        , 0.94995659],\n",
       "       [1.        , 0.17001515],\n",
       "       [1.        , 0.64167505],\n",
       "       [1.        , 0.08892413],\n",
       "       [1.        , 0.71859734],\n",
       "       [1.        , 0.22324914],\n",
       "       [1.        , 0.32281693],\n",
       "       [1.        , 0.44811635],\n",
       "       [1.        , 0.54980468],\n",
       "       [1.        , 0.9348383 ],\n",
       "       [1.        , 0.09805703]])"
      ]
     },
     "execution_count": 164,
     "metadata": {},
     "output_type": "execute_result"
    }
   ],
   "source": [
    "x_b = np.c_[np.ones((100,1)),x]\n",
    "x_b"
   ]
  },
  {
   "cell_type": "code",
   "execution_count": 165,
   "metadata": {},
   "outputs": [
    {
     "data": {
      "text/plain": [
       "array([[4.57161686],\n",
       "       [2.86731828]])"
      ]
     },
     "execution_count": 165,
     "metadata": {},
     "output_type": "execute_result"
    }
   ],
   "source": [
    "theta_best = np.linalg.inv(x_b.T.dot(x_b)).dot(x_b.T).dot(y)# Normalized equation theta =  (xT.x)^-1.xT.y\n",
    "theta_best #loss function"
   ]
  },
  {
   "cell_type": "code",
   "execution_count": 166,
   "metadata": {},
   "outputs": [
    {
     "data": {
      "text/plain": [
       "array([[6.21333693],\n",
       "       [6.97879273],\n",
       "       [6.00435726],\n",
       "       [4.94220901],\n",
       "       [7.08272621],\n",
       "       [6.36548185],\n",
       "       [7.25722964],\n",
       "       [6.00731564],\n",
       "       [5.68177114],\n",
       "       [6.06105982],\n",
       "       [6.48579816],\n",
       "       [6.52942734],\n",
       "       [6.58136381],\n",
       "       [5.22146136],\n",
       "       [6.62073028],\n",
       "       [5.4433345 ],\n",
       "       [6.76426122],\n",
       "       [7.36359101],\n",
       "       [6.90743139],\n",
       "       [5.21992229],\n",
       "       [6.58520964],\n",
       "       [6.83704684],\n",
       "       [4.93591164],\n",
       "       [5.17117189],\n",
       "       [7.06507632],\n",
       "       [5.51503178],\n",
       "       [6.21967068],\n",
       "       [7.33714351],\n",
       "       [5.51366421],\n",
       "       [7.19265607],\n",
       "       [6.9836399 ],\n",
       "       [6.00637039],\n",
       "       [5.71848762],\n",
       "       [7.25242382],\n",
       "       [6.34413575],\n",
       "       [5.70295531],\n",
       "       [6.97814258],\n",
       "       [6.15770873],\n",
       "       [6.35394929],\n",
       "       [6.25512877],\n",
       "       [6.17855038],\n",
       "       [5.37375329],\n",
       "       [5.36548305],\n",
       "       [4.81416817],\n",
       "       [6.7252577 ],\n",
       "       [5.31699662],\n",
       "       [5.71518114],\n",
       "       [4.76946748],\n",
       "       [5.89156946],\n",
       "       [5.24403228],\n",
       "       [7.21579742],\n",
       "       [4.83038971],\n",
       "       [7.2413831 ],\n",
       "       [6.54077044],\n",
       "       [4.84097732],\n",
       "       [7.24639396],\n",
       "       [5.42399563],\n",
       "       [4.88548494],\n",
       "       [7.00412175],\n",
       "       [5.94564808],\n",
       "       [6.89584089],\n",
       "       [4.82698159],\n",
       "       [6.92922904],\n",
       "       [7.11795796],\n",
       "       [5.92915015],\n",
       "       [6.29165537],\n",
       "       [5.7634859 ],\n",
       "       [6.79744248],\n",
       "       [4.96098428],\n",
       "       [6.41352403],\n",
       "       [5.86531478],\n",
       "       [5.27371392],\n",
       "       [5.04662403],\n",
       "       [5.96333545],\n",
       "       [7.40945177],\n",
       "       [6.72525848],\n",
       "       [4.76066313],\n",
       "       [4.99170595],\n",
       "       [7.41214403],\n",
       "       [5.85119937],\n",
       "       [5.54538015],\n",
       "       [4.7499229 ],\n",
       "       [6.08082169],\n",
       "       [5.78831191],\n",
       "       [6.14158753],\n",
       "       [6.97980883],\n",
       "       [5.91783404],\n",
       "       [4.7938765 ],\n",
       "       [5.12046268],\n",
       "       [7.29544474],\n",
       "       [5.05910441],\n",
       "       [6.41150344],\n",
       "       [4.82659065],\n",
       "       [6.63206415],\n",
       "       [5.21174319],\n",
       "       [5.49723573],\n",
       "       [5.85650905],\n",
       "       [6.14808187],\n",
       "       [7.2520958 ],\n",
       "       [4.85277757]])"
      ]
     },
     "execution_count": 166,
     "metadata": {},
     "output_type": "execute_result"
    }
   ],
   "source": [
    "y_predict = x_b.dot(theta_best)\n",
    "y_predict"
   ]
  },
  {
   "cell_type": "code",
   "execution_count": 167,
   "metadata": {},
   "outputs": [
    {
     "data": {
      "text/plain": [
       "[<matplotlib.lines.Line2D at 0x1aa8beda5f8>]"
      ]
     },
     "execution_count": 167,
     "metadata": {},
     "output_type": "execute_result"
    },
    {
     "data": {
      "image/png": "[encoded data removed]",
      "text/plain": [
       "<Figure size 432x288 with 1 Axes>"
      ]
     },
     "metadata": {
      "needs_background": "light"
     },
     "output_type": "display_data"
    }
   ],
   "source": [
    "plt.plot(x,y,\".\")\n",
    "plt.plot(x,y_predict,\"cyan\")"
   ]
  },
  {
   "cell_type": "code",
   "execution_count": 168,
   "metadata": {},
   "outputs": [],
   "source": [
    "from sklearn.linear_model import LinearRegression"
   ]
  },
  {
   "cell_type": "code",
   "execution_count": 169,
   "metadata": {},
   "outputs": [
    {
     "data": {
      "text/plain": [
       "(array([4.57161686]), array([[2.86731828]]))"
      ]
     },
     "execution_count": 169,
     "metadata": {},
     "output_type": "execute_result"
    }
   ],
   "source": [
    "lin_reg = LinearRegression()\n",
    "lin_reg.fit(x,y)\n",
    "lin_reg.intercept_,lin_reg.coef_"
   ]
  },
  {
   "cell_type": "code",
   "execution_count": 172,
   "metadata": {},
   "outputs": [
    {
     "data": {
      "text/plain": [
       "array([[ 0.64643461],\n",
       "       [-0.77406056]])"
      ]
     },
     "execution_count": 172,
     "metadata": {},
     "output_type": "execute_result"
    }
   ],
   "source": [
    "eta = 0.1 #learning rate\n",
    "n_iterations = 1000\n",
    "m = 100\n",
    "theta = np.random.randn(2,1)\n",
    "theta"
   ]
  },
  {
   "cell_type": "code",
   "execution_count": 171,
   "metadata": {},
   "outputs": [
    {
     "name": "stdout",
     "output_type": "stream",
     "text": [
      "[[4.57161495]\n",
      " [2.86732172]]\n"
     ]
    }
   ],
   "source": [
    "for iteration in range(n_iterations):\n",
    "    gradients = 2/m*x_b.T.dot(x_b.dot(theta)-y)\n",
    "    theta = theta - eta*gradients\n",
    "print(theta)"
   ]
  },
  {
   "cell_type": "markdown",
   "metadata": {},
   "source": [
    "#### Polynomial Regression"
   ]
  },
  {
   "cell_type": "code",
   "execution_count": 174,
   "metadata": {},
   "outputs": [],
   "source": [
    "m = 100\n",
    "x = 6 * np.random.rand(m,1)-3\n",
    "y = 0.5 * x**2 + x + 2 + np.random.randn(m,1)"
   ]
  },
  {
   "cell_type": "code",
   "execution_count": 176,
   "metadata": {},
   "outputs": [
    {
     "data": {
      "text/plain": [
       "[<matplotlib.lines.Line2D at 0x1aa8d59f908>]"
      ]
     },
     "execution_count": 176,
     "metadata": {},
     "output_type": "execute_result"
    },
    {
     "data": {
      "image/png": "[encoded data removed]",
      "text/plain": [
       "<Figure size 432x288 with 1 Axes>"
      ]
     },
     "metadata": {
      "needs_background": "light"
     },
     "output_type": "display_data"
    }
   ],
   "source": [
    "plt.plot(x,y,\".\")"
   ]
  },
  {
   "cell_type": "code",
   "execution_count": 177,
   "metadata": {},
   "outputs": [],
   "source": [
    "from sklearn.preprocessing import PolynomialFeatures\n",
    "poly_features = PolynomialFeatures(degree = 2,include_bias = False)"
   ]
  },
  {
   "cell_type": "code",
   "execution_count": 178,
   "metadata": {},
   "outputs": [
    {
     "data": {
      "text/plain": [
       "PolynomialFeatures(degree=2, include_bias=False, interaction_only=False)"
      ]
     },
     "execution_count": 178,
     "metadata": {},
     "output_type": "execute_result"
    }
   ],
   "source": [
    "poly_features"
   ]
  },
  {
   "cell_type": "code",
   "execution_count": 180,
   "metadata": {},
   "outputs": [
    {
     "data": {
      "text/plain": [
       "array([[-1.95922029],\n",
       "       [ 0.92617892],\n",
       "       [ 0.94586106],\n",
       "       [-2.95920143],\n",
       "       [ 0.55951057],\n",
       "       [-0.85294846],\n",
       "       [ 0.56194415],\n",
       "       [-2.88305275],\n",
       "       [-0.75587993],\n",
       "       [-2.47182198],\n",
       "       [-0.33934717],\n",
       "       [-2.88219516],\n",
       "       [-0.28855449],\n",
       "       [-1.70933332],\n",
       "       [-2.11686707],\n",
       "       [-0.12672225],\n",
       "       [-1.64251868],\n",
       "       [ 1.50694334],\n",
       "       [ 1.23406308],\n",
       "       [-0.1113147 ],\n",
       "       [-1.49613562],\n",
       "       [-1.0523434 ],\n",
       "       [-1.10361282],\n",
       "       [ 0.0570693 ],\n",
       "       [-1.49999957],\n",
       "       [ 0.51942026],\n",
       "       [-0.84403663],\n",
       "       [ 2.41373033],\n",
       "       [-1.26889857],\n",
       "       [-2.27931487],\n",
       "       [ 2.63135895],\n",
       "       [ 0.77521306],\n",
       "       [-2.51815411],\n",
       "       [ 0.58115302],\n",
       "       [ 0.49986225],\n",
       "       [-0.74291333],\n",
       "       [ 1.48180974],\n",
       "       [-0.12641554],\n",
       "       [ 0.13433419],\n",
       "       [ 1.0805381 ],\n",
       "       [-0.65153085],\n",
       "       [-2.35663207],\n",
       "       [ 1.00164568],\n",
       "       [-2.75144425],\n",
       "       [ 2.44224553],\n",
       "       [ 0.24559712],\n",
       "       [ 0.43550436],\n",
       "       [ 0.59993022],\n",
       "       [ 1.59011224],\n",
       "       [-1.32980788],\n",
       "       [ 1.46664479],\n",
       "       [ 2.28569178],\n",
       "       [ 2.69447158],\n",
       "       [ 0.91942384],\n",
       "       [ 0.56623043],\n",
       "       [-2.78031901],\n",
       "       [ 0.34306892],\n",
       "       [ 2.58805916],\n",
       "       [-0.23218693],\n",
       "       [-2.03430509],\n",
       "       [-1.13952581],\n",
       "       [-0.99612414],\n",
       "       [-0.64072829],\n",
       "       [-2.38347042],\n",
       "       [ 2.97914725],\n",
       "       [ 2.24374551],\n",
       "       [ 1.59029511],\n",
       "       [-1.14402037],\n",
       "       [-2.77894761],\n",
       "       [-1.17447521],\n",
       "       [-2.5352865 ],\n",
       "       [ 0.22760918],\n",
       "       [-1.61464878],\n",
       "       [-1.49201244],\n",
       "       [-0.58458269],\n",
       "       [ 1.31136326],\n",
       "       [ 1.48412362],\n",
       "       [-1.52098872],\n",
       "       [-2.8155749 ],\n",
       "       [-0.28550518],\n",
       "       [ 2.00942735],\n",
       "       [-2.51353345],\n",
       "       [ 0.02758767],\n",
       "       [-2.0624452 ],\n",
       "       [-1.33455208],\n",
       "       [ 2.04818968],\n",
       "       [-2.00874734],\n",
       "       [ 2.57525394],\n",
       "       [-1.22698405],\n",
       "       [-1.02972316],\n",
       "       [-1.97082482],\n",
       "       [ 1.89383552],\n",
       "       [-0.97915953],\n",
       "       [ 2.78642381],\n",
       "       [-0.95253755],\n",
       "       [-0.71509854],\n",
       "       [-1.50149822],\n",
       "       [ 0.56271598],\n",
       "       [ 2.16785828],\n",
       "       [-1.11389265]])"
      ]
     },
     "execution_count": 180,
     "metadata": {},
     "output_type": "execute_result"
    }
   ],
   "source": [
    "x"
   ]
  },
  {
   "cell_type": "code",
   "execution_count": 179,
   "metadata": {},
   "outputs": [
    {
     "data": {
      "text/plain": [
       "array([[-1.95922029e+00,  3.83854416e+00],\n",
       "       [ 9.26178922e-01,  8.57807396e-01],\n",
       "       [ 9.45861060e-01,  8.94653145e-01],\n",
       "       [-2.95920143e+00,  8.75687313e+00],\n",
       "       [ 5.59510568e-01,  3.13052076e-01],\n",
       "       [-8.52948456e-01,  7.27521069e-01],\n",
       "       [ 5.61944147e-01,  3.15781224e-01],\n",
       "       [-2.88305275e+00,  8.31199318e+00],\n",
       "       [-7.55879932e-01,  5.71354472e-01],\n",
       "       [-2.47182198e+00,  6.10990388e+00],\n",
       "       [-3.39347165e-01,  1.15156499e-01],\n",
       "       [-2.88219516e+00,  8.30704895e+00],\n",
       "       [-2.88554492e-01,  8.32636951e-02],\n",
       "       [-1.70933332e+00,  2.92182040e+00],\n",
       "       [-2.11686707e+00,  4.48112618e+00],\n",
       "       [-1.26722254e-01,  1.60585296e-02],\n",
       "       [-1.64251868e+00,  2.69786762e+00],\n",
       "       [ 1.50694334e+00,  2.27087824e+00],\n",
       "       [ 1.23406308e+00,  1.52291168e+00],\n",
       "       [-1.11314698e-01,  1.23909619e-02],\n",
       "       [-1.49613562e+00,  2.23842179e+00],\n",
       "       [-1.05234340e+00,  1.10742664e+00],\n",
       "       [-1.10361282e+00,  1.21796127e+00],\n",
       "       [ 5.70692975e-02,  3.25690471e-03],\n",
       "       [-1.49999957e+00,  2.24999872e+00],\n",
       "       [ 5.19420255e-01,  2.69797402e-01],\n",
       "       [-8.44036625e-01,  7.12397825e-01],\n",
       "       [ 2.41373033e+00,  5.82609412e+00],\n",
       "       [-1.26889857e+00,  1.61010357e+00],\n",
       "       [-2.27931487e+00,  5.19527629e+00],\n",
       "       [ 2.63135895e+00,  6.92404991e+00],\n",
       "       [ 7.75213060e-01,  6.00955288e-01],\n",
       "       [-2.51815411e+00,  6.34110015e+00],\n",
       "       [ 5.81153023e-01,  3.37738836e-01],\n",
       "       [ 4.99862248e-01,  2.49862267e-01],\n",
       "       [-7.42913326e-01,  5.51920210e-01],\n",
       "       [ 1.48180974e+00,  2.19576010e+00],\n",
       "       [-1.26415537e-01,  1.59808881e-02],\n",
       "       [ 1.34334190e-01,  1.80456746e-02],\n",
       "       [ 1.08053810e+00,  1.16756259e+00],\n",
       "       [-6.51530845e-01,  4.24492442e-01],\n",
       "       [-2.35663207e+00,  5.55371470e+00],\n",
       "       [ 1.00164568e+00,  1.00329406e+00],\n",
       "       [-2.75144425e+00,  7.57044545e+00],\n",
       "       [ 2.44224553e+00,  5.96456321e+00],\n",
       "       [ 2.45597117e-01,  6.03179439e-02],\n",
       "       [ 4.35504360e-01,  1.89664047e-01],\n",
       "       [ 5.99930221e-01,  3.59916270e-01],\n",
       "       [ 1.59011224e+00,  2.52845694e+00],\n",
       "       [-1.32980788e+00,  1.76838899e+00],\n",
       "       [ 1.46664479e+00,  2.15104693e+00],\n",
       "       [ 2.28569178e+00,  5.22438693e+00],\n",
       "       [ 2.69447158e+00,  7.26017710e+00],\n",
       "       [ 9.19423837e-01,  8.45340192e-01],\n",
       "       [ 5.66230433e-01,  3.20616903e-01],\n",
       "       [-2.78031901e+00,  7.73017382e+00],\n",
       "       [ 3.43068917e-01,  1.17696282e-01],\n",
       "       [ 2.58805916e+00,  6.69805019e+00],\n",
       "       [-2.32186935e-01,  5.39107726e-02],\n",
       "       [-2.03430509e+00,  4.13839719e+00],\n",
       "       [-1.13952581e+00,  1.29851906e+00],\n",
       "       [-9.96124144e-01,  9.92263310e-01],\n",
       "       [-6.40728291e-01,  4.10532743e-01],\n",
       "       [-2.38347042e+00,  5.68093125e+00],\n",
       "       [ 2.97914725e+00,  8.87531833e+00],\n",
       "       [ 2.24374551e+00,  5.03439391e+00],\n",
       "       [ 1.59029511e+00,  2.52903855e+00],\n",
       "       [-1.14402037e+00,  1.30878261e+00],\n",
       "       [-2.77894761e+00,  7.72254981e+00],\n",
       "       [-1.17447521e+00,  1.37939202e+00],\n",
       "       [-2.53528650e+00,  6.42767762e+00],\n",
       "       [ 2.27609178e-01,  5.18059378e-02],\n",
       "       [-1.61464878e+00,  2.60709068e+00],\n",
       "       [-1.49201244e+00,  2.22610111e+00],\n",
       "       [-5.84582685e-01,  3.41736916e-01],\n",
       "       [ 1.31136326e+00,  1.71967360e+00],\n",
       "       [ 1.48412362e+00,  2.20262292e+00],\n",
       "       [-1.52098872e+00,  2.31340670e+00],\n",
       "       [-2.81557490e+00,  7.92746200e+00],\n",
       "       [-2.85505184e-01,  8.15132099e-02],\n",
       "       [ 2.00942735e+00,  4.03779827e+00],\n",
       "       [-2.51353345e+00,  6.31785041e+00],\n",
       "       [ 2.75876703e-02,  7.61079554e-04],\n",
       "       [-2.06244520e+00,  4.25368019e+00],\n",
       "       [-1.33455208e+00,  1.78102927e+00],\n",
       "       [ 2.04818968e+00,  4.19508098e+00],\n",
       "       [-2.00874734e+00,  4.03506588e+00],\n",
       "       [ 2.57525394e+00,  6.63193287e+00],\n",
       "       [-1.22698405e+00,  1.50548986e+00],\n",
       "       [-1.02972316e+00,  1.06032979e+00],\n",
       "       [-1.97082482e+00,  3.88415045e+00],\n",
       "       [ 1.89383552e+00,  3.58661299e+00],\n",
       "       [-9.79159534e-01,  9.58753393e-01],\n",
       "       [ 2.78642381e+00,  7.76415765e+00],\n",
       "       [-9.52537553e-01,  9.07327790e-01],\n",
       "       [-7.15098541e-01,  5.11365923e-01],\n",
       "       [-1.50149822e+00,  2.25449692e+00],\n",
       "       [ 5.62715979e-01,  3.16649273e-01],\n",
       "       [ 2.16785828e+00,  4.69960952e+00],\n",
       "       [-1.11389265e+00,  1.24075684e+00]])"
      ]
     },
     "execution_count": 179,
     "metadata": {},
     "output_type": "execute_result"
    }
   ],
   "source": [
    "x_poly = poly_features.fit_transform(x)\n",
    "x_poly"
   ]
  },
  {
   "cell_type": "code",
   "execution_count": 181,
   "metadata": {},
   "outputs": [],
   "source": [
    "lin_reg = LinearRegression()"
   ]
  },
  {
   "cell_type": "code",
   "execution_count": 183,
   "metadata": {},
   "outputs": [
    {
     "data": {
      "text/plain": [
       "(array([1.79681296]), array([[1.00003415, 0.53631882]]))"
      ]
     },
     "execution_count": 183,
     "metadata": {},
     "output_type": "execute_result"
    }
   ],
   "source": [
    "lin_reg.fit(x_poly,y)\n",
    "lin_reg.intercept_,lin_reg.coef_"
   ]
  },
  {
   "cell_type": "code",
   "execution_count": 190,
   "metadata": {},
   "outputs": [
    {
     "data": {
      "text/plain": [
       "<matplotlib.legend.Legend at 0x1aa8e803d68>"
      ]
     },
     "execution_count": 190,
     "metadata": {},
     "output_type": "execute_result"
    },
    {
     "data": {
      "image/png": "[encoded data removed]",
      "text/plain": [
       "<Figure size 432x288 with 1 Axes>"
      ]
     },
     "metadata": {
      "needs_background": "light"
     },
     "output_type": "display_data"
    }
   ],
   "source": [
    "plt.scatter(x,y,color = \"blue\",label = \"scatter\")\n",
    "plt.plot(x,lin_reg.predict(poly_features.fit_transform(x)),\".\",color = \"r\",label = \"predictions\")\n",
    "plt.legend()"
   ]
  },
  {
   "cell_type": "code",
   "execution_count": 191,
   "metadata": {},
   "outputs": [
    {
     "data": {
      "text/html": [
       "<div>\n",
       "<style scoped>\n",
       "    .dataframe tbody tr th:only-of-type {\n",
       "        vertical-align: middle;\n",
       "    }\n",
       "\n",
       "    .dataframe tbody tr th {\n",
       "        vertical-align: top;\n",
       "    }\n",
       "\n",
       "    .dataframe thead th {\n",
       "        text-align: right;\n",
       "    }\n",
       "</style>\n",
       "<table border=\"1\" class=\"dataframe\">\n",
       "  <thead>\n",
       "    <tr style=\"text-align: right;\">\n",
       "      <th></th>\n",
       "      <th>sno</th>\n",
       "      <th>Temperature</th>\n",
       "      <th>Pressure</th>\n",
       "    </tr>\n",
       "  </thead>\n",
       "  <tbody>\n",
       "    <tr>\n",
       "      <th>0</th>\n",
       "      <td>1</td>\n",
       "      <td>0</td>\n",
       "      <td>0.0002</td>\n",
       "    </tr>\n",
       "    <tr>\n",
       "      <th>1</th>\n",
       "      <td>2</td>\n",
       "      <td>20</td>\n",
       "      <td>0.0012</td>\n",
       "    </tr>\n",
       "    <tr>\n",
       "      <th>2</th>\n",
       "      <td>3</td>\n",
       "      <td>40</td>\n",
       "      <td>0.0060</td>\n",
       "    </tr>\n",
       "    <tr>\n",
       "      <th>3</th>\n",
       "      <td>4</td>\n",
       "      <td>60</td>\n",
       "      <td>0.0300</td>\n",
       "    </tr>\n",
       "    <tr>\n",
       "      <th>4</th>\n",
       "      <td>5</td>\n",
       "      <td>80</td>\n",
       "      <td>0.0900</td>\n",
       "    </tr>\n",
       "    <tr>\n",
       "      <th>5</th>\n",
       "      <td>6</td>\n",
       "      <td>100</td>\n",
       "      <td>0.2700</td>\n",
       "    </tr>\n",
       "  </tbody>\n",
       "</table>\n",
       "</div>"
      ],
      "text/plain": [
       "   sno  Temperature  Pressure\n",
       "0    1            0    0.0002\n",
       "1    2           20    0.0012\n",
       "2    3           40    0.0060\n",
       "3    4           60    0.0300\n",
       "4    5           80    0.0900\n",
       "5    6          100    0.2700"
      ]
     },
     "execution_count": 191,
     "metadata": {},
     "output_type": "execute_result"
    }
   ],
   "source": [
    "data = pd.read_csv(\"data.csv\")\n",
    "data"
   ]
  },
  {
   "cell_type": "code",
   "execution_count": 202,
   "metadata": {},
   "outputs": [
    {
     "data": {
      "text/plain": [
       "LinearRegression(copy_X=True, fit_intercept=True, n_jobs=None,\n",
       "         normalize=False)"
      ]
     },
     "execution_count": 202,
     "metadata": {},
     "output_type": "execute_result"
    }
   ],
   "source": [
    "x = data.iloc[:,1:2].values\n",
    "y = data.iloc[:, 2].values\n",
    "lin = LinearRegression()\n",
    "lin.fit(x,y)\n"
   ]
  },
  {
   "cell_type": "code",
   "execution_count": 204,
   "metadata": {},
   "outputs": [
    {
     "data": {
      "image/png": "[encoded data removed]",
      "text/plain": [
       "<Figure size 432x288 with 1 Axes>"
      ]
     },
     "metadata": {
      "needs_background": "light"
     },
     "output_type": "display_data"
    }
   ],
   "source": [
    "# Fitting polynomial Regression to be dataset\n",
    "plt.scatter(x,y,color = \"blue\")\n",
    "plt.plot(x,lin.predict(x),color = \"red\")\n",
    "plt.title(\"Linear Regression\")\n",
    "plt.xlabel(\"Temperature\")\n",
    "plt.ylabel(\"pressure\")\n",
    "plt.show()\n"
   ]
  },
  {
   "cell_type": "code",
   "execution_count": 205,
   "metadata": {},
   "outputs": [
    {
     "data": {
      "text/plain": [
       "LinearRegression(copy_X=True, fit_intercept=True, n_jobs=None,\n",
       "         normalize=False)"
      ]
     },
     "execution_count": 205,
     "metadata": {},
     "output_type": "execute_result"
    }
   ],
   "source": [
    "#Fitting polynomial Regression to the dataset\n",
    "from sklearn.preprocessing import PolynomialFeatures\n",
    "poly = PolynomialFeatures(degree = 4)\n",
    "x_poly = poly.fit_transform(x)\n",
    "poly.fit(x_poly,y)\n",
    "lin2 = LinearRegression()\n",
    "lin2.fit(x_poly,y)"
   ]
  },
  {
   "cell_type": "code",
   "execution_count": 208,
   "metadata": {},
   "outputs": [
    {
     "data": {
      "image/png": "[encoded data removed]",
      "text/plain": [
       "<Figure size 432x288 with 1 Axes>"
      ]
     },
     "metadata": {
      "needs_background": "light"
     },
     "output_type": "display_data"
    }
   ],
   "source": [
    "# Visualising the polynomial Regression results\n",
    "plt.scatter(x,y,color = \"cyan\")\n",
    "plt.plot(x,lin2.predict(poly.fit_transform(x)),color = \"red\")\n",
    "plt.title(\"ploynomial Regression\")\n",
    "plt.xlabel(\"Temperature\")\n",
    "plt.ylabel(\"pressure\")\n",
    "plt.show()"
   ]
  },
  {
   "cell_type": "code",
   "execution_count": 210,
   "metadata": {},
   "outputs": [
    {
     "data": {
      "text/plain": [
       "array([0.18333333])"
      ]
     },
     "execution_count": 210,
     "metadata": {},
     "output_type": "execute_result"
    }
   ],
   "source": [
    "#predicting a new result with linear regression\n",
    "lin.predict([[100.0]])"
   ]
  },
  {
   "cell_type": "code",
   "execution_count": 211,
   "metadata": {},
   "outputs": [
    {
     "data": {
      "text/plain": [
       "array([0.26973889])"
      ]
     },
     "execution_count": 211,
     "metadata": {},
     "output_type": "execute_result"
    }
   ],
   "source": [
    "#predicting a new result with polynomial Regression\n",
    "lin2.predict(poly.fit_transform([[100.0]]))"
   ]
  },
  {
   "cell_type": "code",
   "execution_count": null,
   "metadata": {},
   "outputs": [],
   "source": []
  }
 ],
 "metadata": {
  "kernelspec": {
   "display_name": "Python 3",
   "language": "python",
   "name": "python3"
  },
  "language_info": {
   "codemirror_mode": {
    "name": "ipython",
    "version": 3
   },
   "file_extension": ".py",
   "mimetype": "text/x-python",
   "name": "python",
   "nbconvert_exporter": "python",
   "pygments_lexer": "ipython3",
   "version": "3.7.3"
  }
 },
 "nbformat": 4,
 "nbformat_minor": 2
}
